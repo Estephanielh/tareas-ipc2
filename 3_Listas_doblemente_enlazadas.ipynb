{
  "nbformat": 4,
  "nbformat_minor": 0,
  "metadata": {
    "colab": {
      "name": "3. Listas doblemente enlazadas.ipynb",
      "provenance": [],
      "authorship_tag": "ABX9TyMu8J26bmD561VjQ6Q3lSzq",
      "include_colab_link": true
    },
    "kernelspec": {
      "name": "python3",
      "display_name": "Python 3"
    },
    "language_info": {
      "name": "python"
    }
  },
  "cells": [
    {
      "cell_type": "markdown",
      "metadata": {
        "id": "view-in-github",
        "colab_type": "text"
      },
      "source": [
        "<a href=\"https://colab.research.google.com/github/Estephanielh/tareas-ipc2/blob/main/3_Listas_doblemente_enlazadas.ipynb\" target=\"_parent\"><img src=\"https://colab.research.google.com/assets/colab-badge.svg\" alt=\"Open In Colab\"/></a>"
      ]
    },
    {
      "cell_type": "markdown",
      "metadata": {
        "id": "hc8EzzdvSP2t"
      },
      "source": [
        "### **Listas Doblemente Enlazadas**\n",
        "**Definición de la clase Estudiante**"
      ]
    },
    {
      "cell_type": "code",
      "metadata": {
        "id": "cq0DFGaRSMzi"
      },
      "source": [
        "class Estudiante:\n",
        "  def __init__(self, carnet, nombre, edad, direccion, telefono, email, carrera, puesto):\n",
        "    self.carnet = carnet\n",
        "    self.nombre = nombre\n",
        "    self.edad = edad\n",
        "    self.direccion = direccion\n",
        "    self.telefono = telefono\n",
        "    self.email = email\n",
        "    self.carrera = carrera\n",
        "    self.puesto = puesto"
      ],
      "execution_count": 69,
      "outputs": []
    },
    {
      "cell_type": "markdown",
      "metadata": {
        "id": "43yRO-ZFUbWp"
      },
      "source": [
        "**Definición de la Clase Nodo**"
      ]
    },
    {
      "cell_type": "code",
      "metadata": {
        "id": "8c7RZ1xPUexd"
      },
      "source": [
        "class nodo:\n",
        "  def __init__(self, estudiante=None, siguiente=None, anterior=None):\n",
        "    self.estudiante = estudiante\n",
        "    self.siguiente = siguiente\n",
        "    self.anterior = anterior"
      ],
      "execution_count": 70,
      "outputs": []
    },
    {
      "cell_type": "markdown",
      "metadata": {
        "id": "fVdPDefnUpU-"
      },
      "source": [
        "**Definición de la Clase Lista Doblemente Enlazada**"
      ]
    },
    {
      "cell_type": "code",
      "metadata": {
        "id": "shLVQOXoUwDI"
      },
      "source": [
        "class lista_doble:\n",
        "  def __init__(self):\n",
        "    self.primero = None\n",
        "\n",
        "  def insertar(self, estudiante):\n",
        "    if self.primero is None:\n",
        "      self.primero = nodo(estudiante=estudiante)\n",
        "    else:\n",
        "      actual = nodo(estudiante=estudiante, siguiente=self.primero)\n",
        "      self.primero.anterior = actual\n",
        "      self.primero = actual\n",
        "\n",
        "  def recorrer(self):\n",
        "    if self.primero is None:\n",
        "      return\n",
        "    actual = self.primero\n",
        "    print(\"carnet:\", actual.estudiante.carnet, \", nombre: \", actual.estudiante.nombre, \", email: \", actual.estudiante.email, \"->\")\n",
        "    while actual.siguiente:\n",
        "      actual = actual.siguiente\n",
        "      print(\"carnet:\", actual.estudiante.carnet, \", nombre: \", actual.estudiante.nombre, \", email: \", actual.estudiante.email, \"->\")\n",
        "\n",
        "  def eliminar(self, carnet):\n",
        "    actual = self.primero\n",
        "    while actual:\n",
        "      if (actual.estudiante.carnet == carnet):\n",
        "        if actual.anterior:\n",
        "          if actual.siguiente:\n",
        "            actual.anterior.siguiente = actual.siguiente\n",
        "            actual.siguiente.anterior = actual.anterior\n",
        "          else:\n",
        "            actual.anterior.siguiente = None\n",
        "            actual.anterior = None\n",
        "        else:\n",
        "          if actual.siguiente:\n",
        "            self.primero = actual.siguiente\n",
        "            actual.siguiente.anterior = None\n",
        "          else:\n",
        "            self.primero = None\n",
        "        return True\n",
        "      else:\n",
        "        actual = actual.siguiente\n",
        "    return False\n",
        "\n",
        "  def buscar(self, carnet):\n",
        "    actual = self.primero\n",
        "    if actual is None:\n",
        "      return\n",
        "    while actual:\n",
        "      if actual.estudiante.carnet == carnet:\n",
        "        print(\"carnet:\", actual.estudiante.carnet, \", nombre:\", actual.estudiante.nombre, \", edad:\", actual.estudiante.edad, \", dirección:\", actual.estudiante.direccion, \n",
        "            \"\\nteléfono:\", actual.estudiante.telefono, \", email:\", actual.estudiante.email, \", carrera:\", actual.estudiante.carrera, \", puesto:\", actual.estudiante.puesto)\n",
        "        return\n",
        "      else:\n",
        "        actual = actual.siguiente\n",
        "    \n",
        "      "
      ],
      "execution_count": 71,
      "outputs": []
    },
    {
      "cell_type": "markdown",
      "metadata": {
        "id": "RcP_AkDoVw9L"
      },
      "source": [
        "**Creación de objetos Estudiante**"
      ]
    },
    {
      "cell_type": "code",
      "metadata": {
        "id": "63Ed0deFVz-Y"
      },
      "source": [
        "e1 = Estudiante(202003002, \"Gerson Ortiz\", 20, \"9 calle 10-2 zona 1\", 24400101, \"gerson.ortiz@gmail.com\", \"Ingenieria en sistemas\", \"Programador Jr.\")\n",
        "e2 = Estudiante(201915060, \"Karen Hurtarte\", 21, \"7 calle 10-2 zona 1\", 24400102, \"karen.hurtarte@gmail.com\", \"Ingenieria en sistemas\", \"Programador Jr.\")\n",
        "e3 = Estudiante(202003001, \"Luis Mendez\", 22, \"8 calle 10-2 zona 1\", 24400103, \"luis.mendez@gmail.com\", \"Ingenieria en sistemas\", \"Programador Jr.\")"
      ],
      "execution_count": 85,
      "outputs": []
    },
    {
      "cell_type": "markdown",
      "metadata": {
        "id": "HsJ9E8w7V1Rx"
      },
      "source": [
        "**Inserción**"
      ]
    },
    {
      "cell_type": "code",
      "metadata": {
        "id": "RyqCt1CFV4kZ"
      },
      "source": [
        "lista_d = lista_doble()\n",
        "lista_d.insertar(e1)\n",
        "lista_d.insertar(e2)\n",
        "lista_d.insertar(e3)"
      ],
      "execution_count": 86,
      "outputs": []
    },
    {
      "cell_type": "markdown",
      "metadata": {
        "id": "UpUzCAIFwTTX"
      },
      "source": [
        "**Recorrer la lista**"
      ]
    },
    {
      "cell_type": "code",
      "metadata": {
        "colab": {
          "base_uri": "https://localhost:8080/"
        },
        "id": "KjNrQOzRwVBX",
        "outputId": "d7d40524-2d4d-43fe-c1be-0f798cbca0f6"
      },
      "source": [
        "lista_d.recorrer()"
      ],
      "execution_count": 87,
      "outputs": [
        {
          "output_type": "stream",
          "text": [
            "carnet: 202003001 , nombre:  Luis Mendez , email:  luis.mendez@gmail.com ->\n",
            "carnet: 201915060 , nombre:  Karen Hurtarte , email:  karen.hurtarte@gmail.com ->\n",
            "carnet: 202003002 , nombre:  Gerson Ortiz , email:  gerson.ortiz@gmail.com ->\n"
          ],
          "name": "stdout"
        }
      ]
    },
    {
      "cell_type": "markdown",
      "metadata": {
        "id": "Ei9EnXgD7oz6"
      },
      "source": [
        "**Eliminar el nodo del medio de la lista**"
      ]
    },
    {
      "cell_type": "code",
      "metadata": {
        "colab": {
          "base_uri": "https://localhost:8080/"
        },
        "id": "2vnLf1Ta7sp6",
        "outputId": "0c21c360-d1ac-4510-b5b8-dfc25d6d9007"
      },
      "source": [
        "lista_d.eliminar(201915060)"
      ],
      "execution_count": 75,
      "outputs": [
        {
          "output_type": "execute_result",
          "data": {
            "text/plain": [
              "True"
            ]
          },
          "metadata": {},
          "execution_count": 75
        }
      ]
    },
    {
      "cell_type": "code",
      "metadata": {
        "colab": {
          "base_uri": "https://localhost:8080/"
        },
        "id": "jWr07i7h71ab",
        "outputId": "de9d522b-29cd-4206-f5a6-86ab7c3dff88"
      },
      "source": [
        "lista_d.recorrer()"
      ],
      "execution_count": 76,
      "outputs": [
        {
          "output_type": "stream",
          "text": [
            "carnet: 202003001 , nombre:  Luis Mendez , email:  luis.mendez@gmail.com ->\n",
            "carnet: 202003002 , nombre:  Gerson Ortiz , email:  gerson.ortiz@gmail.com ->\n"
          ],
          "name": "stdout"
        }
      ]
    },
    {
      "cell_type": "markdown",
      "metadata": {
        "id": "cIS_t40C8Gv-"
      },
      "source": [
        "**Eliminar el nodo primero de la lista**"
      ]
    },
    {
      "cell_type": "code",
      "metadata": {
        "colab": {
          "base_uri": "https://localhost:8080/"
        },
        "id": "kDP09tis8Ir1",
        "outputId": "a109f1b2-c349-404a-94af-d29489f3b627"
      },
      "source": [
        "lista_d.eliminar(202003001)"
      ],
      "execution_count": 77,
      "outputs": [
        {
          "output_type": "execute_result",
          "data": {
            "text/plain": [
              "True"
            ]
          },
          "metadata": {},
          "execution_count": 77
        }
      ]
    },
    {
      "cell_type": "code",
      "metadata": {
        "colab": {
          "base_uri": "https://localhost:8080/"
        },
        "id": "9lxCa52O8MsD",
        "outputId": "5f0366b0-85e8-419a-d13a-77dd6a504355"
      },
      "source": [
        "lista_d.recorrer()"
      ],
      "execution_count": 78,
      "outputs": [
        {
          "output_type": "stream",
          "text": [
            "carnet: 202003002 , nombre:  Gerson Ortiz , email:  gerson.ortiz@gmail.com ->\n"
          ],
          "name": "stdout"
        }
      ]
    },
    {
      "cell_type": "markdown",
      "metadata": {
        "id": "ShO1-EZU8YEE"
      },
      "source": [
        "**Eliminar el último nodo de la lista**"
      ]
    },
    {
      "cell_type": "code",
      "metadata": {
        "colab": {
          "base_uri": "https://localhost:8080/"
        },
        "id": "oyWjWJDC8hI3",
        "outputId": "7aee2fae-aeeb-4401-e6ee-b0579743048d"
      },
      "source": [
        "lista_d.eliminar(202003002)"
      ],
      "execution_count": 79,
      "outputs": [
        {
          "output_type": "execute_result",
          "data": {
            "text/plain": [
              "True"
            ]
          },
          "metadata": {},
          "execution_count": 79
        }
      ]
    },
    {
      "cell_type": "code",
      "metadata": {
        "id": "fGs31kT68sY3"
      },
      "source": [
        "lista_d.recorrer()"
      ],
      "execution_count": 80,
      "outputs": []
    },
    {
      "cell_type": "markdown",
      "metadata": {
        "id": "P4_CE2CT8v-X"
      },
      "source": [
        "**Eliminar nodo a nodo de la lista**"
      ]
    },
    {
      "cell_type": "code",
      "metadata": {
        "id": "4tF_cIP99DMq"
      },
      "source": [
        "lista_d.eliminar(202003001)\n",
        "lista_d.recorrer()"
      ],
      "execution_count": 81,
      "outputs": []
    },
    {
      "cell_type": "code",
      "metadata": {
        "id": "X0gCNjwG9WSK"
      },
      "source": [
        "lista_d.eliminar(201915060)\n",
        "lista_d.recorrer()"
      ],
      "execution_count": 82,
      "outputs": []
    },
    {
      "cell_type": "code",
      "metadata": {
        "id": "vB0Dmb6T9XtY"
      },
      "source": [
        "lista_d.eliminar(202003002)\n",
        "lista_d.recorrer()"
      ],
      "execution_count": 83,
      "outputs": []
    },
    {
      "cell_type": "markdown",
      "metadata": {
        "id": "JjTM4AlbOahc"
      },
      "source": [
        "**Buscar**"
      ]
    },
    {
      "cell_type": "code",
      "metadata": {
        "colab": {
          "base_uri": "https://localhost:8080/"
        },
        "id": "waoz3fIuOfcR",
        "outputId": "2f2f0b45-4e76-485c-9f03-0e5f2431abbb"
      },
      "source": [
        "lista_d.buscar(202003002)"
      ],
      "execution_count": 91,
      "outputs": [
        {
          "output_type": "stream",
          "text": [
            "carnet: 202003002 , nombre: Gerson Ortiz , edad: 20 , dirección: 9 calle 10-2 zona 1 \n",
            "teléfono: 24400101 , email: gerson.ortiz@gmail.com , carrera: Ingenieria en sistemas , puesto: Programador Jr.\n"
          ],
          "name": "stdout"
        }
      ]
    }
  ]
}