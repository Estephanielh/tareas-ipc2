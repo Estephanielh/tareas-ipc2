{
  "nbformat": 4,
  "nbformat_minor": 0,
  "metadata": {
    "colab": {
      "name": "2. Listas circulares.ipynb",
      "provenance": [],
      "authorship_tag": "ABX9TyNZUcFHuL8eHAWYtlJPGUhi",
      "include_colab_link": true
    },
    "kernelspec": {
      "name": "python3",
      "display_name": "Python 3"
    },
    "language_info": {
      "name": "python"
    }
  },
  "cells": [
    {
      "cell_type": "markdown",
      "metadata": {
        "id": "view-in-github",
        "colab_type": "text"
      },
      "source": [
        "<a href=\"https://colab.research.google.com/github/Estephanielh/tareas-ipc2/blob/main/2_Listas_circulares.ipynb\" target=\"_parent\"><img src=\"https://colab.research.google.com/assets/colab-badge.svg\" alt=\"Open In Colab\"/></a>"
      ]
    },
    {
      "cell_type": "markdown",
      "metadata": {
        "id": "cS1JZ8oSzhYw"
      },
      "source": [
        "### **Listas Circulares**\n",
        "**Definición de la clase Estudiante**"
      ]
    },
    {
      "cell_type": "code",
      "metadata": {
        "id": "W4qZNBjNzc-g"
      },
      "source": [
        "class Estudiante:\n",
        "  def __init__(self, carnet, nombre, edad, direccion, telefono, email, carrera, puesto):\n",
        "    self.carnet = carnet\n",
        "    self.nombre = nombre\n",
        "    self.edad = edad\n",
        "    self.direccion = direccion\n",
        "    self.telefono = telefono\n",
        "    self.email = email\n",
        "    self.carrera = carrera\n",
        "    self.puesto = puesto\n"
      ],
      "execution_count": 147,
      "outputs": []
    },
    {
      "cell_type": "markdown",
      "metadata": {
        "id": "-93qzpdZ1crK"
      },
      "source": [
        "**Definición de la clase Nodo**"
      ]
    },
    {
      "cell_type": "code",
      "metadata": {
        "id": "EnRfwlhi1fez"
      },
      "source": [
        "class Nodo:\n",
        "  def __init__(self, estudiante=None, siguiente=None):\n",
        "    self.estudiante = estudiante\n",
        "    self.siguiente = siguiente"
      ],
      "execution_count": 148,
      "outputs": []
    },
    {
      "cell_type": "markdown",
      "metadata": {
        "id": "_8lTFtmt1hcd"
      },
      "source": [
        "**Definición de la clase Lista Circular**"
      ]
    },
    {
      "cell_type": "code",
      "metadata": {
        "id": "Eq949r-g1lGJ"
      },
      "source": [
        "class Lista_circular:\n",
        "  def __init__(self):\n",
        "    self.primero = None\n",
        "\n",
        "  def insertar(self, estudiante):\n",
        "    if self.primero is None:\n",
        "      self.primero = Nodo(estudiante=estudiante)\n",
        "      self.primero.siguiente = self.primero\n",
        "    else:\n",
        "      actual = Nodo(estudiante=estudiante, siguiente=self.primero.siguiente)\n",
        "      self.primero.siguiente=actual\n",
        "\n",
        "  def recorrer(self):\n",
        "    if self.primero is None:\n",
        "      return\n",
        "    actual = self.primero\n",
        "    print(\"carnet:\", actual.estudiante.carnet, \"nombre:\", actual.estudiante.nombre, \"email:\", actual.estudiante.email, \"->\")\n",
        "    while actual.siguiente != self.primero:\n",
        "      actual = actual.siguiente\n",
        "      print(\"carnet:\", actual.estudiante.carnet, \"nombre:\", actual.estudiante.nombre, \"email:\", actual.estudiante.email, \"->\")\n",
        "\n",
        "  def eliminar(self, carnet):\n",
        "    actual = self.primero\n",
        "    anterior = None\n",
        "    no_encontrado = False\n",
        "\n",
        "    while actual and actual.estudiante.carnet != carnet:\n",
        "      anterior = actual\n",
        "      actual = actual.siguiente\n",
        "      if actual == self.primero:\n",
        "        return;\n",
        "\n",
        "    if not no_encontrado:\n",
        "      if anterior is not None:\n",
        "        anterior.siguiente = actual.siguiente\n",
        "      else:\n",
        "        while actual.siguiente != self.primero:\n",
        "          actual = actual.siguiente\n",
        "        actual.siguiente = self.primero.siguiente\n",
        "        self.primero = self.primero.siguiente\n",
        "\n",
        "  def buscar(self, carnet):\n",
        "    if self.primero is None:\n",
        "      return\n",
        "    actual = self.primero\n",
        "    if (actual.estudiante.carnet == carnet):\n",
        "      print(\"carnet:\", actual.estudiante.carnet, \", nombre:\", actual.estudiante.nombre, \", edad:\", actual.estudiante.edad, \", dirección:\", actual.estudiante.direccion, \n",
        "            \"\\nteléfono:\", actual.estudiante.telefono, \", email:\", actual.estudiante.email, \", carrera:\", actual.estudiante.carrera, \", puesto:\", actual.estudiante.puesto)\n",
        "    else:\n",
        "      actual = actual.siguiente\n",
        "    while actual != self.primero:\n",
        "      if (actual.estudiante.carnet == carnet):\n",
        "        print(\"carnet:\", actual.estudiante.carnet, \", nombre:\", actual.estudiante.nombre, \", edad:\", actual.estudiante.edad, \", dirección:\", actual.estudiante.direccion, \n",
        "              \"\\nteléfono:\", actual.estudiante.telefono, \", email:\", actual.estudiante.email, \", carrera:\", actual.estudiante.carrera, \", puesto:\", actual.estudiante.puesto)\n",
        "        return\n",
        "      else:\n",
        "        actual = actual.siguiente\n",
        "      "
      ],
      "execution_count": 149,
      "outputs": []
    },
    {
      "cell_type": "markdown",
      "metadata": {
        "id": "YKbjdkiaM5dY"
      },
      "source": [
        "**Creación de objetos Estudiante**"
      ]
    },
    {
      "cell_type": "code",
      "metadata": {
        "id": "tFKJ8BpjM6Rx"
      },
      "source": [
        "e1 = Estudiante(202003002, \"Gerson Ortiz\", 20, \"9 calle 10-2 zona 1\", 24400101, \"gerson.ortiz@gmail.com\", \"Ingenieria en sistemas\", \"Programador Jr.\")\n",
        "e2 = Estudiante(201915060, \"Karen Hurtarte\", 21, \"7 calle 10-2 zona 1\", 24400102, \"karen.hurtarte@gmail.com\", \"Ingenieria en sistemas\", \"Programador Jr.\")\n",
        "e3 = Estudiante(202003001, \"Luis Mendez\", 22, \"8 calle 10-2 zona 1\", 24400103, \"luis.mendez@gmail.com\", \"Ingenieria en sistemas\", \"Programador Jr.\")"
      ],
      "execution_count": 150,
      "outputs": []
    },
    {
      "cell_type": "markdown",
      "metadata": {
        "id": "gOK6lr8KNJEZ"
      },
      "source": [
        "**Inserción**"
      ]
    },
    {
      "cell_type": "code",
      "metadata": {
        "id": "56KaQNojNKks"
      },
      "source": [
        "lista_c = Lista_circular()\n",
        "lista_c.insertar(e1)\n",
        "lista_c.insertar(e2)\n",
        "lista_c.insertar(e3)"
      ],
      "execution_count": 151,
      "outputs": []
    },
    {
      "cell_type": "markdown",
      "metadata": {
        "id": "H66JvlK9OHUN"
      },
      "source": [
        "**Recorrer la lista**"
      ]
    },
    {
      "cell_type": "code",
      "metadata": {
        "id": "3ooU15mVOJ7M",
        "colab": {
          "base_uri": "https://localhost:8080/"
        },
        "outputId": "191b6ff5-cbb2-4b46-f4ac-191e9995fd00"
      },
      "source": [
        "lista_c.recorrer()"
      ],
      "execution_count": 152,
      "outputs": [
        {
          "output_type": "stream",
          "text": [
            "carnet: 202003002 nombre: Gerson Ortiz email: gerson.ortiz@gmail.com ->\n",
            "carnet: 202003001 nombre: Luis Mendez email: luis.mendez@gmail.com ->\n",
            "carnet: 201915060 nombre: Karen Hurtarte email: karen.hurtarte@gmail.com ->\n"
          ],
          "name": "stdout"
        }
      ]
    },
    {
      "cell_type": "markdown",
      "metadata": {
        "id": "Xf_KmzoPOh4H"
      },
      "source": [
        "**Eliminar un nodo de la lista**"
      ]
    },
    {
      "cell_type": "code",
      "metadata": {
        "colab": {
          "base_uri": "https://localhost:8080/"
        },
        "id": "hAusBi3jOktw",
        "outputId": "55c83e5b-9d4c-454e-ee56-f8a0b6f3168a"
      },
      "source": [
        "lista_c.eliminar(202003002)\n",
        "lista_c.recorrer()"
      ],
      "execution_count": 153,
      "outputs": [
        {
          "output_type": "stream",
          "text": [
            "carnet: 202003001 nombre: Luis Mendez email: luis.mendez@gmail.com ->\n",
            "carnet: 201915060 nombre: Karen Hurtarte email: karen.hurtarte@gmail.com ->\n"
          ],
          "name": "stdout"
        }
      ]
    },
    {
      "cell_type": "markdown",
      "metadata": {
        "id": "FrVNYCatXf3o"
      },
      "source": [
        "**Buscar un nodo en la lista**"
      ]
    },
    {
      "cell_type": "code",
      "metadata": {
        "colab": {
          "base_uri": "https://localhost:8080/"
        },
        "id": "_4tCcVwnXiQe",
        "outputId": "19df05c6-e26c-4a36-9f1c-cc74f6f08d04"
      },
      "source": [
        "lista_c.buscar(201915060)"
      ],
      "execution_count": 154,
      "outputs": [
        {
          "output_type": "stream",
          "text": [
            "carnet: 201915060 , nombre: Karen Hurtarte , edad: 21 , dirección: 7 calle 10-2 zona 1 \n",
            "teléfono: 24400102 , email: karen.hurtarte@gmail.com , carrera: Ingenieria en sistemas , puesto: Programador Jr.\n"
          ],
          "name": "stdout"
        }
      ]
    }
  ]
}