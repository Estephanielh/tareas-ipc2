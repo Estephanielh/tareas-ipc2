{
  "nbformat": 4,
  "nbformat_minor": 0,
  "metadata": {
    "colab": {
      "name": "1. Listas enlazadas.ipynb",
      "provenance": [],
      "authorship_tag": "ABX9TyMORZM8i1VTAC46H+Z4qwIW",
      "include_colab_link": true
    },
    "kernelspec": {
      "name": "python3",
      "display_name": "Python 3"
    },
    "language_info": {
      "name": "python"
    }
  },
  "cells": [
    {
      "cell_type": "markdown",
      "metadata": {
        "id": "view-in-github",
        "colab_type": "text"
      },
      "source": [
        "<a href=\"https://colab.research.google.com/github/Estephanielh/tareas-ipc2/blob/main/1_Listas_enlazadas.ipynb\" target=\"_parent\"><img src=\"https://colab.research.google.com/assets/colab-badge.svg\" alt=\"Open In Colab\"/></a>"
      ]
    },
    {
      "cell_type": "markdown",
      "metadata": {
        "id": "9A4Ik72-toTr"
      },
      "source": [
        "### **Listas Enlazadas**\n",
        "**Definición de la clase Estudiante**"
      ]
    },
    {
      "cell_type": "code",
      "metadata": {
        "id": "1B2GRnfouCPO"
      },
      "source": [
        "class Estudiante:\n",
        "  def __init__(self, carnet, nombre, edad, direccion, telefono, email, carrera, puesto):\n",
        "    self.carnet = carnet\n",
        "    self.nombre = nombre\n",
        "    self.edad = edad\n",
        "    self.direccion = direccion\n",
        "    self.telefono = telefono\n",
        "    self.email = email\n",
        "    self.carrera = carrera\n",
        "    self.puesto = puesto\n"
      ],
      "execution_count": null,
      "outputs": []
    },
    {
      "cell_type": "markdown",
      "metadata": {
        "id": "uUgENz4Zzcf9"
      },
      "source": [
        "**Definición de la clase Nodo**"
      ]
    },
    {
      "cell_type": "code",
      "metadata": {
        "id": "jYgvLnc-zdKM"
      },
      "source": [
        "class Nodo:\n",
        "  def __init__(self, estudiante=None, siguiente=None):\n",
        "    self.estudiante = estudiante\n",
        "    self.siguiente = siguiente"
      ],
      "execution_count": null,
      "outputs": []
    },
    {
      "cell_type": "markdown",
      "metadata": {
        "id": "8SU-Z3v722W8"
      },
      "source": [
        "**Definición de la clase Lista Enlazada**"
      ]
    },
    {
      "cell_type": "code",
      "metadata": {
        "id": "EgPOhvJu26JO"
      },
      "source": [
        "class ListaEnlazada:\n",
        "  def __init__(self):\n",
        "    self.primero = None\n",
        "\n",
        "  def insertar(self, estudiante):\n",
        "    if self.primero is None:\n",
        "      self.primero = Nodo(estudiante=estudiante)\n",
        "      return\n",
        "    actual = self.primero\n",
        "    while actual.siguiente: \n",
        "      actual = actual.siguiente #el ultimo elemento tiene \"siguiente\" vacio. Mientras el siguiente del actual no este vacio, que siga avanzando\n",
        "    actual.siguiente = Nodo(estudiante=estudiante)\n",
        "\n",
        "  def recorrer(self):\n",
        "    actual = self.primero\n",
        "    while actual != None:\n",
        "      print(\"carnet:\", actual.estudiante.carnet, \", nombre: \", actual.estudiante.nombre, \", email: \", actual.estudiante.email, \"-->\")\n",
        "      actual = actual.siguiente\n",
        "\n",
        "  def eliminar(self, carnet):\n",
        "    actual = self.primero\n",
        "    anterior = None\n",
        "\n",
        "    while actual and actual.estudiante.carnet != carnet:\n",
        "      anterior = actual\n",
        "      actual = actual.siguiente\n",
        "\n",
        "    if anterior == None:\n",
        "      self.primero = actual.siguiente\n",
        "      actual.siguiente = None\n",
        "    elif actual:\n",
        "      anterior.siguiente = actual.siguiente\n",
        "      actual.siguiente = None\n",
        "\n",
        "  def buscar(self, carnet):\n",
        "    actual = self.primero\n",
        "    while actual:\n",
        "      if actual.estudiante.carnet == carnet:\n",
        "        print(\"carnet:\", actual.estudiante.carnet, \", nombre:\", actual.estudiante.nombre, \", edad:\", actual.estudiante.edad, \", dirección:\", actual.estudiante.direccion, \n",
        "              \"\\nteléfono:\", actual.estudiante.telefono, \", email:\", actual.estudiante.email, \", carrera:\", actual.estudiante.carrera, \", puesto:\", actual.estudiante.puesto)\n",
        "        return\n",
        "      else:\n",
        "        actual = actual.siguiente\n"
      ],
      "execution_count": null,
      "outputs": []
    },
    {
      "cell_type": "markdown",
      "metadata": {
        "id": "BtHtQyFsseOg"
      },
      "source": [
        "**Creación de objetos Estudiante**"
      ]
    },
    {
      "cell_type": "code",
      "metadata": {
        "id": "CIl7dX9csiew"
      },
      "source": [
        "e1 = Estudiante(202003002, \"Gerson Ortiz\", 20, \"9 calle 10-2 zona 1\", 24400101, \"gerson.ortiz@gmail.com\", \"Ingenieria en sistemas\", \"Programador Jr.\")\n",
        "e2 = Estudiante(201915060, \"Karen Hurtarte\", 21, \"7 calle 10-2 zona 1\", 24400102, \"karen.hurtarte@gmail.com\", \"Ingenieria en sistemas\", \"Programador Jr.\")\n",
        "e3 = Estudiante(202003001, \"Luis Mendez\", 22, \"8 calle 10-2 zona 1\", 24400103, \"luis.mendez@gmail.com\", \"Ingenieria en sistemas\", \"Programador Jr.\")"
      ],
      "execution_count": null,
      "outputs": []
    },
    {
      "cell_type": "markdown",
      "metadata": {
        "id": "wsxG1nkPtc7b"
      },
      "source": [
        "**Inserción**"
      ]
    },
    {
      "cell_type": "code",
      "metadata": {
        "id": "0k89BoxQtfnW"
      },
      "source": [
        "lista_e = ListaEnlazada()\n",
        "lista_e.insertar(e1)\n",
        "lista_e.insertar(e2)\n",
        "lista_e.insertar(e3)"
      ],
      "execution_count": null,
      "outputs": []
    },
    {
      "cell_type": "markdown",
      "metadata": {
        "id": "OJ_GvPMwuB5D"
      },
      "source": [
        "**Recorrer Lista**"
      ]
    },
    {
      "cell_type": "code",
      "metadata": {
        "colab": {
          "base_uri": "https://localhost:8080/"
        },
        "id": "ip8OquYOuDxw",
        "outputId": "dff4660a-fa2c-4a9a-dbbb-16a2776ace27"
      },
      "source": [
        "lista_e.recorrer()"
      ],
      "execution_count": null,
      "outputs": [
        {
          "output_type": "stream",
          "text": [
            "carnet: 202003002 , nombre:  Gerson Ortiz , email:  gerson.ortiz@gmail.com -->\n",
            "carnet: 201915060 , nombre:  Karen Hurtarte , email:  karen.hurtarte@gmail.com -->\n",
            "carnet: 202003001 , nombre:  Luis Mendez , email:  luis.mendez@gmail.com -->\n"
          ],
          "name": "stdout"
        }
      ]
    },
    {
      "cell_type": "markdown",
      "metadata": {
        "id": "m3ExEg1ewbOT"
      },
      "source": [
        "**Eliminar un nodo de la lista**"
      ]
    },
    {
      "cell_type": "code",
      "metadata": {
        "colab": {
          "base_uri": "https://localhost:8080/"
        },
        "id": "8ahtMIbmwePs",
        "outputId": "c8553e88-570a-4cf1-811a-60e798622e8f"
      },
      "source": [
        "lista_e.eliminar(201915060)\n",
        "lista_e.recorrer()"
      ],
      "execution_count": null,
      "outputs": [
        {
          "output_type": "stream",
          "text": [
            "carnet: 202003002 , nombre:  Gerson Ortiz , email:  gerson.ortiz@gmail.com -->\n",
            "carnet: 202003001 , nombre:  Luis Mendez , email:  luis.mendez@gmail.com -->\n"
          ],
          "name": "stdout"
        }
      ]
    },
    {
      "cell_type": "markdown",
      "metadata": {
        "id": "nM6TUBJ4OevC"
      },
      "source": [
        "**Buscar un estudiante**"
      ]
    },
    {
      "cell_type": "code",
      "metadata": {
        "colab": {
          "base_uri": "https://localhost:8080/"
        },
        "id": "7AiZJRsfQ_gf",
        "outputId": "47d14490-c88c-4262-b4d0-e351df834b29"
      },
      "source": [
        "lista_e.buscar(202003002)"
      ],
      "execution_count": null,
      "outputs": [
        {
          "output_type": "stream",
          "text": [
            "carnet: 202003002 , nombre: Gerson Ortiz , edad: 20 , dirección: 9 calle 10-2 zona 1 \n",
            "teléfono: 24400101 , email: gerson.ortiz@gmail.com , carrera: Ingenieria en sistemas , puesto: Programador Jr.\n"
          ],
          "name": "stdout"
        }
      ]
    }
  ]
}